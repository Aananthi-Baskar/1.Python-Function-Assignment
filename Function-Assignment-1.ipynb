{
 "cells": [
  {
   "cell_type": "code",
   "execution_count": null,
   "metadata": {},
   "outputs": [],
   "source": [
    "# Create Function"
   ]
  },
  {
   "cell_type": "code",
   "execution_count": 10,
   "metadata": {},
   "outputs": [
    {
     "name": "stdout",
     "output_type": "stream",
     "text": [
      "Sub-fields in AI are:\n",
      "Machine Learning\n",
      "Neural networks\n",
      "Vision\n",
      "Robotics\n",
      "Speech Processing\n",
      "Natural Language processing\n"
     ]
    }
   ],
   "source": [
    "def Subfields():\n",
    "    print(\"Sub-fields in AI are:\")\n",
    "    print(\"Machine Learning\")\n",
    "    print(\"Neural networks\")\n",
    "    print(\"Vision\")\n",
    "    print(\"Robotics\")\n",
    "    print(\"Speech Processing\")\n",
    "    print(\"Natural Language processing\")\n",
    "Subfields()"
   ]
  },
  {
   "cell_type": "code",
   "execution_count": 5,
   "metadata": {},
   "outputs": [
    {
     "name": "stdout",
     "output_type": "stream",
     "text": [
      "Sub-fields in AI are:\n",
      "Machine Learning\n",
      "Neural networks\n",
      "Vision\n",
      "Robotics\n",
      "Speech Processing\n",
      "Natural Language processing\n"
     ]
    }
   ],
   "source": [
    "lists = [\"Machine Learning\", \"Neural networks\", \"Vision\", \"Robotics\", \"Speech Processing\", \"Natural Language processing\"]\n",
    "def Subfields():\n",
    "    print(\"Sub-fields in AI are:\")\n",
    "    for x in lists:\n",
    "        print(x)\n",
    "Subfields()"
   ]
  },
  {
   "cell_type": "code",
   "execution_count": null,
   "metadata": {},
   "outputs": [],
   "source": [
    "#Create Function - odd or Even"
   ]
  },
  {
   "cell_type": "code",
   "execution_count": 6,
   "metadata": {},
   "outputs": [
    {
     "name": "stdout",
     "output_type": "stream",
     "text": [
      "Enter a number: 4\n",
      "4 is even number\n"
     ]
    }
   ],
   "source": [
    "num = int(input(\"Enter a number: \"))\n",
    "def oddeven():\n",
    "    if(num%2==1):\n",
    "        print(num, \"is odd number\")\n",
    "    else:\n",
    "        print(num, \"is even number\")\n",
    "oddeven()    \n",
    "    "
   ]
  },
  {
   "cell_type": "code",
   "execution_count": null,
   "metadata": {},
   "outputs": [],
   "source": [
    "#Create Function - Elegible"
   ]
  },
  {
   "cell_type": "code",
   "execution_count": 7,
   "metadata": {},
   "outputs": [
    {
     "name": "stdout",
     "output_type": "stream",
     "text": [
      "Your Gender: Men\n",
      "Your Age: 18\n",
      "Not elegible\n"
     ]
    }
   ],
   "source": [
    "Gender = input(\"Your Gender: \")\n",
    "Age = int(input(\"Your Age: \"))\n",
    "def Elegible():\n",
    "    if(Gender==\"Men\"):\n",
    "        if(Age>21):\n",
    "            print(\"Elegible\")\n",
    "        else:\n",
    "            print(\"Not elegible\")\n",
    "    else:\n",
    "        if(Age>18):\n",
    "            print(\"Elegible\")\n",
    "        else:\n",
    "            print(\"Not elegible\")\n",
    "Elegible()\n"
   ]
  },
  {
   "cell_type": "code",
   "execution_count": null,
   "metadata": {},
   "outputs": [],
   "source": [
    "#Create Function - Percentage"
   ]
  },
  {
   "cell_type": "code",
   "execution_count": 3,
   "metadata": {},
   "outputs": [
    {
     "name": "stdout",
     "output_type": "stream",
     "text": [
      "Subject1= 23\n",
      "Subject2= 45\n",
      "Subject3= 34\n",
      "Subject4= 23\n",
      "Subject5= 23\n",
      "Total :  148\n",
      "percentage :  29.6\n"
     ]
    }
   ],
   "source": [
    "Subject1= int(input(\"Subject1= \"))\n",
    "Subject2= int(input(\"Subject2= \"))\n",
    "Subject3= int(input(\"Subject3= \"))\n",
    "Subject4= int(input(\"Subject4= \"))\n",
    "Subject5= int(input(\"Subject5= \"))\n",
    "def percentage():\n",
    "    total = Subject1+Subject2+Subject3+Subject4+Subject5\n",
    "    print(\"Total : \",total)\n",
    "    Percentage = total/5\n",
    "    print(\"percentage : \",Percentage)\n",
    "    \n",
    "percentage()\n",
    "\n"
   ]
  },
  {
   "cell_type": "code",
   "execution_count": 4,
   "metadata": {
    "scrolled": true
   },
   "outputs": [
    {
     "name": "stdout",
     "output_type": "stream",
     "text": [
      "Subject1= 23\n",
      "Subject2= 45\n",
      "Subject3= 34\n",
      "Subject4= 23\n",
      "Subject5= 23\n",
      "Total :  148\n",
      "percentage :  29.599999999999998\n"
     ]
    }
   ],
   "source": [
    "Subject1= int(input(\"Subject1= \"))\n",
    "Subject2= int(input(\"Subject2= \"))\n",
    "Subject3= int(input(\"Subject3= \"))\n",
    "Subject4= int(input(\"Subject4= \"))\n",
    "Subject5= int(input(\"Subject5= \"))\n",
    "def percentage():\n",
    "    total = Subject1+Subject2+Subject3+Subject4+Subject5\n",
    "    print(\"Total : \",total) \n",
    "    Percent = (total/500)*100\n",
    "    print(\"percentage : \",Percent)\n",
    "percentage()\n",
    "\n",
    "\n"
   ]
  },
  {
   "cell_type": "code",
   "execution_count": null,
   "metadata": {},
   "outputs": [],
   "source": [
    "#Create Function - triangle()"
   ]
  },
  {
   "cell_type": "code",
   "execution_count": 8,
   "metadata": {},
   "outputs": [
    {
     "name": "stdout",
     "output_type": "stream",
     "text": [
      "Height: 3\n",
      "Breadth: 4\n",
      "Area formula : (Height*Breadth)/2\n",
      "Area of Triangle:  6.0\n",
      "Height1: 3\n",
      "Height2: 4\n",
      "Breadth: 45\n",
      "Perimeter formula : Height1+Height2+Breadth\n",
      "Perimeter of Triangle: 52\n"
     ]
    }
   ],
   "source": [
    "def triangle():\n",
    "    Height=int(input(\"Height: \"))\n",
    "    Breadth=int(input(\"Breadth: \"))\n",
    "    print(\"Area formula : (Height*Breadth)/2\")\n",
    "    Area_of_Triangle = (Height*Breadth)/2\n",
    "    print(\"Area of Triangle: \", Area_of_Triangle)\n",
    "def triangle1():\n",
    "    Height1=int(input(\"Height1: \"))\n",
    "    Height2=int(input(\"Height2: \"))   \n",
    "    Breadth=int(input(\"Breadth: \"))\n",
    "    print(\"Perimeter formula : Height1+Height2+Breadth\")\n",
    "    Perimeter_of_triangle=Height1+Height2+Breadth\n",
    "    print(\"Perimeter of Triangle:\", Perimeter_of_triangle)\n",
    "triangle()\n",
    "triangle1()\n",
    "    "
   ]
  },
  {
   "cell_type": "code",
   "execution_count": 9,
   "metadata": {},
   "outputs": [
    {
     "name": "stdout",
     "output_type": "stream",
     "text": [
      "Height: 3\n",
      "Breadth: 4\n",
      "Area formula : (Height*Breadth)/2\n",
      "Area of Triangle:  6.0\n",
      "Height1: 3\n",
      "Height2: 4\n",
      "Breadth: 45\n",
      "Perimeter formula : Height1+Height2+Breadth\n",
      "Perimeter of Triangle: 52\n"
     ]
    }
   ],
   "source": [
    "def triangle():\n",
    "    Height=int(input(\"Height: \"))\n",
    "    Breadth=int(input(\"Breadth: \"))\n",
    "    print(\"Area formula : (Height*Breadth)/2\")\n",
    "    Area_of_Triangle = (Height*Breadth)/2\n",
    "    print(\"Area of Triangle: \", Area_of_Triangle)\n",
    "    Height1=int(input(\"Height1: \"))\n",
    "    Height2=int(input(\"Height2: \"))   \n",
    "    Breadth=int(input(\"Breadth: \"))\n",
    "    print(\"Perimeter formula : Height1+Height2+Breadth\")\n",
    "    Perimeter_of_triangle=Height1+Height2+Breadth\n",
    "    print(\"Perimeter of Triangle:\", Perimeter_of_triangle)\n",
    "triangle()"
   ]
  },
  {
   "cell_type": "code",
   "execution_count": null,
   "metadata": {},
   "outputs": [],
   "source": []
  }
 ],
 "metadata": {
  "kernelspec": {
   "display_name": "Python 3",
   "language": "python",
   "name": "python3"
  },
  "language_info": {
   "codemirror_mode": {
    "name": "ipython",
    "version": 3
   },
   "file_extension": ".py",
   "mimetype": "text/x-python",
   "name": "python",
   "nbconvert_exporter": "python",
   "pygments_lexer": "ipython3",
   "version": "3.7.4"
  }
 },
 "nbformat": 4,
 "nbformat_minor": 2
}
